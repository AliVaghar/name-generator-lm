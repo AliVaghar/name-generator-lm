{
 "cells": [
  {
   "attachments": {},
   "cell_type": "markdown",
   "metadata": {},
   "source": [
    "# Goal:\n",
    "\n",
    "In this notebook, we try to predict character level outcomes, following Multi-Layer Perceptor (MLP) (Bengio et al. 2003)"
   ]
  },
  {
   "cell_type": "code",
   "execution_count": 363,
   "metadata": {},
   "outputs": [],
   "source": [
    "# idea:\n",
    "    # we can't expand biagram model to let's say three characters: 27 * 27 -> 27 * 27 * 27 (it's just too high)\n",
    "    # in this situation, we need to do 'embedding' which means shrinking the size of data to something managebale.\n",
    "    # the idea is that words or characters that are similar will move to similar part of the new embedded space."
   ]
  },
  {
   "cell_type": "code",
   "execution_count": 470,
   "metadata": {},
   "outputs": [],
   "source": [
    "%reset -f\n",
    "\n",
    "import torch\n",
    "import seaborn as sns"
   ]
  },
  {
   "cell_type": "code",
   "execution_count": 471,
   "metadata": {},
   "outputs": [
    {
     "data": {
      "text/plain": [
       "(list, 32033, ['emma', 'olivia', 'ava', 'isabella', 'sophia'])"
      ]
     },
     "execution_count": 471,
     "metadata": {},
     "output_type": "execute_result"
    }
   ],
   "source": [
    "# reading input data\n",
    "\n",
    "names = open('names.txt', 'r').read().splitlines()\n",
    "type(names), len(names), names[0:5]"
   ]
  },
  {
   "cell_type": "code",
   "execution_count": 473,
   "metadata": {},
   "outputs": [],
   "source": [
    "# defining constants and hyper-parameters\n",
    "\n",
    "START_END_CH = '.'\n",
    "NUM_OF_PREV_CHAR_TO_USE = 3\n",
    "EMBEDDING_DIM = 3\n",
    "TRAIN_VALIDATION_TEST_SPLIT = (0.8, 0.1, 0.1)\n",
    "NUMBER_OF_NEURONS = 300 # how many nodes in the hidden layer?\n",
    "BATCH_SIZE = 50"
   ]
  },
  {
   "cell_type": "code",
   "execution_count": 474,
   "metadata": {},
   "outputs": [
    {
     "name": "stdout",
     "output_type": "stream",
     "text": [
      "{'a': 1, 'b': 2, 'c': 3, 'd': 4, 'e': 5, 'f': 6, 'g': 7, 'h': 8, 'i': 9, 'j': 10, 'k': 11, 'l': 12, 'm': 13, 'n': 14, 'o': 15, 'p': 16, 'q': 17, 'r': 18, 's': 19, 't': 20, 'u': 21, 'v': 22, 'w': 23, 'x': 24, 'y': 25, 'z': 26, '.': 0}\n"
     ]
    }
   ],
   "source": [
    "# creating a lookup between characters to alphabet index, and vice versa\n",
    "\n",
    "stoi = {ch: (i+1) for i, ch in enumerate(sorted(set(''.join(names))))}\n",
    "stoi[START_END_CH] = 0\n",
    "itos = {i: ch for ch, i in stoi.items()}\n",
    "\n",
    "print(stoi)"
   ]
  },
  {
   "cell_type": "code",
   "execution_count": 475,
   "metadata": {},
   "outputs": [
    {
     "data": {
      "text/plain": [
       "(torch.Size([182625, 3]),\n",
       " torch.Size([182625]),\n",
       " torch.Size([22655, 3]),\n",
       " torch.Size([22655, 3]),\n",
       " torch.Size([22866, 3]),\n",
       " torch.Size([22866]))"
      ]
     },
     "execution_count": 475,
     "metadata": {},
     "output_type": "execute_result"
    }
   ],
   "source": [
    "# building X and Y datasets\n",
    "# train, validation, and test splits\n",
    "\n",
    "import random\n",
    "random.seed(42)\n",
    "\n",
    "\n",
    "def get_X_and_Y(names):\n",
    "    X, Y = [], []\n",
    "    for n in names:\n",
    "        block = [0] * NUM_OF_PREV_CHAR_TO_USE\n",
    "        for ch in n + '.':\n",
    "            ix = stoi[ch]\n",
    "            X.append(block)\n",
    "            Y.append(ix)\n",
    "            # print(''.join(itos[i] for i in block), ' --> ', ch)\n",
    "            block = [*block[1:], ix]\n",
    "\n",
    "    X = torch.tensor(X)\n",
    "    Y = torch.tensor(Y)\n",
    "\n",
    "    return X, Y\n",
    "\n",
    "\n",
    "random.shuffle(names)\n",
    "n1 = int(len(names) * TRAIN_VALIDATION_TEST_SPLIT[0])\n",
    "n2 = int(len(names) *\n",
    "         (TRAIN_VALIDATION_TEST_SPLIT[0] + TRAIN_VALIDATION_TEST_SPLIT[1]))\n",
    "\n",
    "X_TRAIN, Y_TRAIN = get_X_and_Y(names[0:n1])\n",
    "X_VALID, Y_VALID = get_X_and_Y(names[n1:n2])\n",
    "X_TEST , Y_TEST = get_X_and_Y(names[n2:])\n",
    "\n",
    "X_TRAIN.shape, Y_TRAIN.shape, X_VALID.shape, X_VALID.shape, X_TEST.shape, Y_TEST.shape\n"
   ]
  },
  {
   "cell_type": "code",
   "execution_count": 476,
   "metadata": {},
   "outputs": [
    {
     "data": {
      "text/plain": [
       "(torch.Size([27, 3]),\n",
       " torch.Size([9, 300]),\n",
       " torch.Size([300]),\n",
       " torch.Size([300, 27]),\n",
       " torch.Size([27]))"
      ]
     },
     "execution_count": 476,
     "metadata": {},
     "output_type": "execute_result"
    }
   ],
   "source": [
    "g = torch.Generator().manual_seed(2147483647)\n",
    "\n",
    "# embedding: we want to go from a 27 dimension (all characters) to a low dimension (EMBEDDING_DIM, let's say 2)\n",
    "# this is effectively a matrix multiplication: (1, 27) x (27, EMBEDDING_DIM) -> (1, EMBEDDING_DIM)\n",
    "# we can call this embedding matrix C, which is (27, EMBEDDING_DIM) dimension.\n",
    "# the values are this matrix itself are part of the optimization: we have to find a transformation which leads to the best outcome\n",
    "# as an example, similar characters (a, u, i, o, e) are expected to be embedded into a closer area, relative to less similar characters.\n",
    "\n",
    "# Embedding transformer\n",
    "C = torch.rand(len(stoi), EMBEDDING_DIM, requires_grad=True)\n",
    "\n",
    "\n",
    "# the first layer weights and bias (very important)\n",
    "W1 = torch.rand((NUM_OF_PREV_CHAR_TO_USE * EMBEDDING_DIM, NUMBER_OF_NEURONS), requires_grad=True)\n",
    "B1 = torch.rand((NUMBER_OF_NEURONS), requires_grad=True)\n",
    "\n",
    "# the second layer weights and bias\n",
    "W2 = torch.rand((NUMBER_OF_NEURONS, len(stoi)), requires_grad=True) # the output will have 27 probabilities for each character\n",
    "B2 = torch.rand((len(stoi)), requires_grad=True)\n",
    "\n",
    "parameters = [C, W1, B1, W2, B2]\n",
    "\n",
    "# making sure that parameters have grad\n",
    "for p in parameters:\n",
    "    p.requires_grad = True\n",
    "\n",
    "C.shape, W1.shape, B1.shape, W2.shape, B2.shape"
   ]
  },
  {
   "cell_type": "code",
   "execution_count": 477,
   "metadata": {},
   "outputs": [
    {
     "data": {
      "text/plain": [
       "tensor([0.5891, 0.6720, 0.2141], grad_fn=<SelectBackward0>)"
      ]
     },
     "execution_count": 477,
     "metadata": {},
     "output_type": "execute_result"
    }
   ],
   "source": [
    "# Example: A is mapped into this pair in a two dimensional space \n",
    "C[stoi['a']]"
   ]
  },
  {
   "cell_type": "code",
   "execution_count": 341,
   "metadata": {},
   "outputs": [],
   "source": [
    "# this is just some few tests (ignore)\n",
    "if False:\n",
    "    # forward pass\n",
    "    # Using C, we can map each input X to a embedded space -> C[X]\n",
    "    emb = C[X]\n",
    "    h = torch.tanh(emb.view(-1, NUM_OF_PREV_CHAR_TO_USE * EMBEDDING_DIM) @ W1 + B1) # -1 lets pytorch to decide what number it should be\n",
    "    logits = h @ W2 + B2\n",
    "    probs = torch.softmax(logits, dim=1)\n",
    "\n",
    "    # predicted probability assigned to Y\n",
    "    # probs[range(len(Y)), Y]\n",
    "    # loss = -probs[range(len(Y)), Y].log().mean() # nll\n",
    "    loss = torch.nn.functional.cross_entropy(logits, Y) # a much cleaner way to do the last two lines (a lot more efficient)\n",
    "\n",
    "    X.shape, emb.shape, h.shape, logits.shape, probs.shape, loss\n",
    "\n",
    "    # backward pass:\n",
    "    for p in parameters:\n",
    "        p.grad = None\n",
    "    loss.backward()\n",
    "\n",
    "    # update\n",
    "    for p in parameters:\n",
    "        p.data -= 0.1 * p.grad"
   ]
  },
  {
   "cell_type": "code",
   "execution_count": 371,
   "metadata": {},
   "outputs": [],
   "source": [
    "# important topics:\n",
    "    # 1. batching (using a subset of data for gradient estimation for faster speed): batching will happen in both forward and backward pass!\n",
    "    # 2. fine-tuning the step sizes: too small leads to very slow optimization, and too large leads to unstable optimization\n",
    "    # 3. bias-variance tradeoff\n",
    "    # 4. train, validation, test samples\n",
    "\n",
    "# batching leads to noise in the direction of gradient, which leads to noisy loss plots.\n",
    "# when the difference in loss between trainig and validation is low -> bias problem (underfit ), and when high, it's variance problem (overfit)\n",
    "# when uderfit, one idea is to increase the number of neurons\n",
    "# increasing batchsize could also lead to a better gradient estination and signal\n",
    "# the embedding size (2) could also be a limiting factor."
   ]
  },
  {
   "cell_type": "code",
   "execution_count": 478,
   "metadata": {},
   "outputs": [
    {
     "data": {
      "text/plain": [
       "11208"
      ]
     },
     "execution_count": 478,
     "metadata": {},
     "output_type": "execute_result"
    }
   ],
   "source": [
    "# number of hyper parameters\n",
    "sum(p.nelement() for p in parameters)"
   ]
  },
  {
   "cell_type": "code",
   "execution_count": 479,
   "metadata": {},
   "outputs": [
    {
     "data": {
      "text/plain": [
       "2.142224690914154"
      ]
     },
     "execution_count": 479,
     "metadata": {},
     "output_type": "execute_result"
    }
   ],
   "source": [
    "step = []\n",
    "list_loss = []\n",
    "\n",
    "for iter in range(100000):\n",
    "    # minibatch\n",
    "    batch_idx = torch.randint(0, len(X_TRAIN), (BATCH_SIZE,))\n",
    "\n",
    "    # forward pass\n",
    "    emb = C[X_TRAIN[batch_idx]]    \n",
    "    h = torch.tanh(\n",
    "        emb.view(-1, NUM_OF_PREV_CHAR_TO_USE * EMBEDDING_DIM) @ W1 + B1)\n",
    "    logits = h @ W2 + B2    \n",
    "    loss = torch.nn.functional.cross_entropy(logits, Y_TRAIN[batch_idx])\n",
    "    list_loss.append(loss.item())\n",
    "    step.append(iter)\n",
    "\n",
    "    # backward pass:\n",
    "    for p in parameters:\n",
    "        p.grad = None\n",
    "    loss.backward()\n",
    "\n",
    "    # update\n",
    "    lr = 0.1 if iter < 50000 else 0.01\n",
    "    # lr = 0.01\n",
    "    for p in parameters:\n",
    "        p.data -= lr * p.grad\n",
    "\n",
    "sum(list_loss[-100:]) / 100 # last loss achieved in training set"
   ]
  },
  {
   "cell_type": "code",
   "execution_count": 480,
   "metadata": {},
   "outputs": [
    {
     "data": {
      "text/plain": [
       "<AxesSubplot:>"
      ]
     },
     "execution_count": 480,
     "metadata": {},
     "output_type": "execute_result"
    },
    {
     "data": {
      "image/png": "[encoded data removed]",
      "text/plain": [
       "<Figure size 432x288 with 1 Axes>"
      ]
     },
     "metadata": {
      "needs_background": "light"
     },
     "output_type": "display_data"
    }
   ],
   "source": [
    "sns.lineplot(x=step, y=list_loss)"
   ]
  },
  {
   "cell_type": "code",
   "execution_count": 481,
   "metadata": {},
   "outputs": [
    {
     "data": {
      "text/plain": [
       "tensor(2.1908, grad_fn=<NllLossBackward0>)"
      ]
     },
     "execution_count": 481,
     "metadata": {},
     "output_type": "execute_result"
    }
   ],
   "source": [
    "# validation sample loss (being used for hyperparameter tuning)\n",
    "emb = C[X_VALID]\n",
    "h = torch.tanh(\n",
    "    emb.view(-1, NUM_OF_PREV_CHAR_TO_USE * EMBEDDING_DIM) @ W1 + B1)\n",
    "logits = h @ W2 + B2    \n",
    "loss = torch.nn.functional.cross_entropy(logits, Y_VALID)\n",
    "loss\n"
   ]
  },
  {
   "cell_type": "code",
   "execution_count": 482,
   "metadata": {},
   "outputs": [
    {
     "data": {
      "text/plain": [
       "tensor(2.1904, grad_fn=<NllLossBackward0>)"
      ]
     },
     "execution_count": 482,
     "metadata": {},
     "output_type": "execute_result"
    }
   ],
   "source": [
    "# test sample loss\n",
    "emb = C[X_TEST]\n",
    "h = torch.tanh(\n",
    "    emb.view(-1, NUM_OF_PREV_CHAR_TO_USE * EMBEDDING_DIM) @ W1 + B1)\n",
    "logits = h @ W2 + B2    \n",
    "loss = torch.nn.functional.cross_entropy(logits, Y_TEST)\n",
    "loss"
   ]
  },
  {
   "cell_type": "code",
   "execution_count": 469,
   "metadata": {},
   "outputs": [
    {
     "data": {
      "image/png": "[encoded data removed]",
      "text/plain": [
       "<Figure size 864x504 with 1 Axes>"
      ]
     },
     "metadata": {
      "needs_background": "light"
     },
     "output_type": "display_data"
    }
   ],
   "source": [
    "# two dimensional (embedding size = 2)\n",
    "\n",
    "from matplotlib import pyplot as plt\n",
    "\n",
    "x_plot = C[:,0].tolist()\n",
    "y_plot = C[:,1].tolist()\n",
    "text_plot = list(stoi.keys())\n",
    "\n",
    "fig, ax = plt.subplots(figsize=(12, 7))\n",
    "ax.scatter(x_plot, y_plot)\n",
    "\n",
    "for i in range(len(x_plot)):\n",
    "    ax.annotate(itos[i], (x_plot[i], y_plot[i]))"
   ]
  },
  {
   "cell_type": "code",
   "execution_count": 501,
   "metadata": {},
   "outputs": [
    {
     "name": "stderr",
     "output_type": "stream",
     "text": [
      "/var/folders/81/p29glqk579jc_zzy2qdvx0g80000gn/T/ipykernel_8398/1338097419.py:14: UserWarning: Implicit dimension choice for softmax has been deprecated. Change the call to include dim=X as an argument.\n",
      "  probs = torch.nn.functional.softmax(logits)\n"
     ]
    },
    {
     "data": {
      "text/plain": [
       "['mora',\n",
       " 'kmyah',\n",
       " 'seel',\n",
       " 'ndyn',\n",
       " 'ala',\n",
       " 'emman',\n",
       " 'endraeg',\n",
       " 'aderedielin',\n",
       " 'shy',\n",
       " 'jenleigh']"
      ]
     },
     "execution_count": 501,
     "metadata": {},
     "output_type": "execute_result"
    }
   ],
   "source": [
    "# generating words\n",
    "g = torch.Generator().manual_seed(2147483647 + 10)\n",
    "\n",
    "\n",
    "def get_new_names_with_nn(n):\n",
    "    names = []\n",
    "    for _ in range(n):\n",
    "        out = []\n",
    "        block = [0] * NUM_OF_PREV_CHAR_TO_USE\n",
    "        while True:\n",
    "            temp_emb = C[torch.tensor(block)]\n",
    "            h = torch.tanh(temp_emb.view(-1, NUM_OF_PREV_CHAR_TO_USE * EMBEDDING_DIM) @ W1 + B1)\n",
    "            logits = h @ W2 + B2\n",
    "            probs = torch.nn.functional.softmax(logits)\n",
    "            ix = torch.multinomial(probs, num_samples=1, replacement=True, generator=g).item()\n",
    "            block = [*block[1:], ix]\n",
    "            out.append(ix)\n",
    "            if ix == 0:\n",
    "                break\n",
    "        names.append(''.join(itos[i] for i in out[:-1]))\n",
    "    return names\n",
    "\n",
    "get_new_names_with_nn(10)"
   ]
  }
 ],
 "metadata": {
  "kernelspec": {
   "display_name": "ds_dev",
   "language": "python",
   "name": "python3"
  },
  "language_info": {
   "codemirror_mode": {
    "name": "ipython",
    "version": 3
   },
   "file_extension": ".py",
   "mimetype": "text/x-python",
   "name": "python",
   "nbconvert_exporter": "python",
   "pygments_lexer": "ipython3",
   "version": "3.8.12"
  },
  "orig_nbformat": 4
 },
 "nbformat": 4,
 "nbformat_minor": 2
}
