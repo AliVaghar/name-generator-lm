{
 "cells": [
  {
   "attachments": {},
   "cell_type": "markdown",
   "metadata": {},
   "source": [
    "# Replication of Wavenet in Pytorch for Character-Level Prediction Model\n",
    "\n",
    "paper: https://arxiv.org/abs/1609.03499"
   ]
  },
  {
   "cell_type": "code",
   "execution_count": 88,
   "metadata": {},
   "outputs": [
    {
     "name": "stdout",
     "output_type": "stream",
     "text": [
      "The autoreload extension is already loaded. To reload it, use:\n",
      "  %reload_ext autoreload\n"
     ]
    }
   ],
   "source": [
    "%reset -f\n",
    "%load_ext autoreload\n",
    "%autoreload 2"
   ]
  },
  {
   "cell_type": "code",
   "execution_count": 89,
   "metadata": {},
   "outputs": [],
   "source": [
    "import torch\n",
    "import torch.nn.functional as F\n",
    "import seaborn as sns\n",
    "import random\n",
    "from methods import Linear, Tanh, BatchNorm1D, Embedding, Flatten, Sequential"
   ]
  },
  {
   "attachments": {},
   "cell_type": "markdown",
   "metadata": {},
   "source": [
    "### Loading Data and Configs"
   ]
  },
  {
   "cell_type": "code",
   "execution_count": 90,
   "metadata": {},
   "outputs": [
    {
     "data": {
      "text/plain": [
       "(list, 32033, ['emma', 'olivia', 'ava'])"
      ]
     },
     "execution_count": 90,
     "metadata": {},
     "output_type": "execute_result"
    }
   ],
   "source": [
    "# reading names from input file\n",
    "\n",
    "names = open('names.txt', mode='r').read().splitlines()\n",
    "\n",
    "type(names), len(names), names[0:3]"
   ]
  },
  {
   "cell_type": "code",
   "execution_count": 91,
   "metadata": {},
   "outputs": [
    {
     "data": {
      "text/plain": [
       "<torch._C.Generator at 0x7fc619543690>"
      ]
     },
     "execution_count": 91,
     "metadata": {},
     "output_type": "execute_result"
    }
   ],
   "source": [
    "# defining constants and hyper-parameters\n",
    "\n",
    "START_END_CH = '.'\n",
    "NUM_OF_PREV_CHAR_TO_USE = 8\n",
    "EMBEDDING_DIM = 10\n",
    "TRAIN_VALIDATION_TEST_SPLIT = (0.8, 0.1, 0.1)\n",
    "NUMBER_OF_NEURONS = 68 # how many nodes in the hidden layer?\n",
    "BATCH_SIZE = 32\n",
    "\n",
    "\n",
    "g = torch.Generator().manual_seed(2147483647)\n",
    "random.seed(42)\n",
    "torch.manual_seed(42)"
   ]
  },
  {
   "cell_type": "code",
   "execution_count": 92,
   "metadata": {},
   "outputs": [
    {
     "name": "stdout",
     "output_type": "stream",
     "text": [
      "{'a': 1, 'b': 2, 'c': 3, 'd': 4, 'e': 5, 'f': 6, 'g': 7, 'h': 8, 'i': 9, 'j': 10, 'k': 11, 'l': 12, 'm': 13, 'n': 14, 'o': 15, 'p': 16, 'q': 17, 'r': 18, 's': 19, 't': 20, 'u': 21, 'v': 22, 'w': 23, 'x': 24, 'y': 25, 'z': 26, '.': 0}\n",
      "27\n"
     ]
    }
   ],
   "source": [
    "# creating a lookup between characters to alphabet index, and vice versa\n",
    "\n",
    "stoi = {ch: (i+1) for i, ch in enumerate(sorted(set(''.join(names))))}\n",
    "stoi[START_END_CH] = 0\n",
    "itos = {i: ch for ch, i in stoi.items()}\n",
    "\n",
    "# useful additional constant\n",
    "VOCAB_SIZE = len(stoi.items())\n",
    "\n",
    "print(stoi)\n",
    "print(VOCAB_SIZE)"
   ]
  },
  {
   "cell_type": "code",
   "execution_count": 93,
   "metadata": {},
   "outputs": [
    {
     "data": {
      "text/plain": [
       "(torch.Size([182625, 8]),\n",
       " torch.Size([182625]),\n",
       " torch.Size([22655, 8]),\n",
       " torch.Size([22655, 8]),\n",
       " torch.Size([22866, 8]),\n",
       " torch.Size([22866]))"
      ]
     },
     "execution_count": 93,
     "metadata": {},
     "output_type": "execute_result"
    }
   ],
   "source": [
    "# building X and Y dataset: train, validation, and test splits\n",
    "\n",
    "def get_X_and_Y(names, print_examples=False):\n",
    "    X, Y = [], []\n",
    "    for n in names:\n",
    "        block = [0] * NUM_OF_PREV_CHAR_TO_USE\n",
    "        for ch in n + '.':\n",
    "            ix = stoi[ch]\n",
    "            X.append(block)\n",
    "            Y.append(ix)\n",
    "            block = [*block[1:], ix]\n",
    "\n",
    "    X = torch.tensor(X)\n",
    "    Y = torch.tensor(Y)\n",
    "\n",
    "    return X, Y\n",
    "\n",
    "\n",
    "random.shuffle(names)\n",
    "n1 = int(len(names) * TRAIN_VALIDATION_TEST_SPLIT[0])\n",
    "n2 = int(len(names) *\n",
    "         (TRAIN_VALIDATION_TEST_SPLIT[0] + TRAIN_VALIDATION_TEST_SPLIT[1]))\n",
    "\n",
    "X_TRAIN, Y_TRAIN = get_X_and_Y(names[0:n1])\n",
    "X_VALID, Y_VALID = get_X_and_Y(names[n1:n2])\n",
    "X_TEST , Y_TEST = get_X_and_Y(names[n2:])\n",
    "\n",
    "X_TRAIN.shape, Y_TRAIN.shape, X_VALID.shape, X_VALID.shape, X_TEST.shape, Y_TEST.shape"
   ]
  },
  {
   "cell_type": "code",
   "execution_count": 94,
   "metadata": {},
   "outputs": [
    {
     "name": "stdout",
     "output_type": "stream",
     "text": [
      "........ --> y\n",
      ".......y --> u\n",
      "......yu --> h\n",
      ".....yuh --> e\n",
      "....yuhe --> n\n",
      "...yuhen --> g\n"
     ]
    }
   ],
   "source": [
    "# a few examples of X and Y\n",
    "\n",
    "for x, y in zip(X_TRAIN[0:6], Y_TRAIN):\n",
    "    print(\n",
    "        ''.join([itos[_x.item()] for _x in x]),\n",
    "        '-->',\n",
    "        itos[y.item()]\n",
    "    )\n"
   ]
  },
  {
   "cell_type": "code",
   "execution_count": 95,
   "metadata": {},
   "outputs": [
    {
     "data": {
      "text/plain": [
       "tensor([[ 0,  0,  0,  0,  0,  0,  0,  0],\n",
       "        [ 0,  0,  0,  0,  0,  0,  0, 25]])"
      ]
     },
     "execution_count": 95,
     "metadata": {},
     "output_type": "execute_result"
    }
   ],
   "source": [
    "X_TRAIN[0:2]"
   ]
  },
  {
   "attachments": {},
   "cell_type": "markdown",
   "metadata": {},
   "source": [
    "### NN Config"
   ]
  },
  {
   "cell_type": "code",
   "execution_count": 96,
   "metadata": {},
   "outputs": [
    {
     "data": {
      "text/plain": [
       "(10, 68, 27)"
      ]
     },
     "execution_count": 96,
     "metadata": {},
     "output_type": "execute_result"
    }
   ],
   "source": [
    "EMBEDDING_DIM, NUMBER_OF_NEURONS, VOCAB_SIZE"
   ]
  },
  {
   "cell_type": "code",
   "execution_count": 97,
   "metadata": {},
   "outputs": [
    {
     "data": {
      "text/plain": [
       "22397"
      ]
     },
     "execution_count": 97,
     "metadata": {},
     "output_type": "execute_result"
    }
   ],
   "source": [
    "# Note: when doing batch norm, no bias in linear layer is needed.\n",
    "\n",
    "model = Sequential([\n",
    "    Embedding(VOCAB_SIZE, EMBEDDING_DIM),\n",
    "\n",
    "    # first biagram\n",
    "    Flatten(2),\n",
    "    Linear(EMBEDDING_DIM * 2, NUMBER_OF_NEURONS, bias=False),\n",
    "    BatchNorm1D(dim_features=NUMBER_OF_NEURONS),\n",
    "    Tanh(),\n",
    "\n",
    "    # second biagram\n",
    "    Flatten(2),\n",
    "    Linear(NUMBER_OF_NEURONS * 2, NUMBER_OF_NEURONS, bias=False),\n",
    "    BatchNorm1D(dim_features=NUMBER_OF_NEURONS),\n",
    "    Tanh(),\n",
    "\n",
    "    # third biagram\n",
    "    Flatten(2),\n",
    "    Linear(NUMBER_OF_NEURONS * 2, NUMBER_OF_NEURONS, bias=False),\n",
    "    BatchNorm1D(dim_features=NUMBER_OF_NEURONS),\n",
    "    Tanh(),\n",
    "\n",
    "    Linear(NUMBER_OF_NEURONS, VOCAB_SIZE)\n",
    "])\n",
    "\n",
    "# parameters initialization:\n",
    "parameters = model.parameters()\n",
    "with torch.no_grad():\n",
    "    model.layers[-1].W *= 0.1  # less confident on the last layer\n",
    "\n",
    "# setting requires grad for parameters\n",
    "for p in parameters:\n",
    "    p.requires_grad = True\n",
    "\n",
    "sum([p.nelement() for p in parameters])\n"
   ]
  },
  {
   "attachments": {},
   "cell_type": "markdown",
   "metadata": {},
   "source": [
    "### Optimization"
   ]
  },
  {
   "cell_type": "code",
   "execution_count": 98,
   "metadata": {},
   "outputs": [
    {
     "name": "stdout",
     "output_type": "stream",
     "text": [
      "loss for       0/  20000 = 3.31422\n",
      "loss for    2000/  20000 = 1.88942\n",
      "loss for    4000/  20000 = 1.96987\n",
      "loss for    6000/  20000 = 2.11756\n",
      "loss for    8000/  20000 = 1.69920\n",
      "loss for   10000/  20000 = 2.20956\n",
      "loss for   12000/  20000 = 2.43694\n",
      "loss for   14000/  20000 = 2.29047\n",
      "loss for   16000/  20000 = 2.03670\n",
      "loss for   18000/  20000 = 1.93558\n"
     ]
    },
    {
     "data": {
      "text/plain": [
       "2.071419824361801"
      ]
     },
     "execution_count": 98,
     "metadata": {},
     "output_type": "execute_result"
    }
   ],
   "source": [
    "MAX_STEPS = 20000\n",
    "step = []\n",
    "list_loss = []\n",
    "\n",
    "for iter in range(MAX_STEPS):\n",
    "\n",
    "    # minibatch\n",
    "    batch_idx = torch.randint(0, len(X_TRAIN), (BATCH_SIZE,))\n",
    "    x_batch, y_batch = X_TRAIN[batch_idx], Y_TRAIN[batch_idx]\n",
    "\n",
    "    # forward pass    \n",
    "    logits = model(x_batch, train=True)\n",
    "\n",
    "    # loss function based on logits\n",
    "    loss = torch.nn.functional.cross_entropy(logits, y_batch)\n",
    "    list_loss.append(loss.item())\n",
    "    step.append(iter)\n",
    "\n",
    "    # backward pass:\n",
    "    for p in parameters:\n",
    "        p.grad = None\n",
    "    loss.backward()\n",
    "\n",
    "    # update\n",
    "    lr = 0.1 if iter < int(0.7 * MAX_STEPS) else 0.01\n",
    "    for p in parameters:\n",
    "        p.data -= lr * p.grad\n",
    "\n",
    "    # log\n",
    "    if iter % int(MAX_STEPS / 10) == 0:\n",
    "        print(f\"loss for {iter:7d}/{MAX_STEPS:7d} = {loss.item():.5f}\")\n",
    "\n",
    "sum(list_loss[-100:]) / 100  # last loss achieved in training set\n"
   ]
  },
  {
   "cell_type": "code",
   "execution_count": 99,
   "metadata": {},
   "outputs": [
    {
     "name": "stdout",
     "output_type": "stream",
     "text": [
      "Embedding       shape =  torch.Size([32, 8, 10])\n",
      "Flatten         shape =  torch.Size([32, 4, 20])\n",
      "Linear          shape =  torch.Size([32, 4, 68])\n",
      "BatchNorm1D     shape =  torch.Size([32, 4, 68])\n",
      "Tanh            shape =  torch.Size([32, 4, 68])\n",
      "Flatten         shape =  torch.Size([32, 2, 136])\n",
      "Linear          shape =  torch.Size([32, 2, 68])\n",
      "BatchNorm1D     shape =  torch.Size([32, 2, 68])\n",
      "Tanh            shape =  torch.Size([32, 2, 68])\n",
      "Flatten         shape =  torch.Size([32, 136])\n",
      "Linear          shape =  torch.Size([32, 68])\n",
      "BatchNorm1D     shape =  torch.Size([32, 68])\n",
      "Tanh            shape =  torch.Size([32, 68])\n",
      "Linear          shape =  torch.Size([32, 27])\n"
     ]
    }
   ],
   "source": [
    "for l in model.layers:\n",
    "    print(f\"{l.__class__.__name__:15} shape =  {l.out.shape}\")"
   ]
  },
  {
   "cell_type": "code",
   "execution_count": 100,
   "metadata": {},
   "outputs": [
    {
     "data": {
      "text/plain": [
       "<AxesSubplot:>"
      ]
     },
     "execution_count": 100,
     "metadata": {},
     "output_type": "execute_result"
    },
    {
     "data": {
      "image/png": "[encoded data removed]",
      "text/plain": [
       "<Figure size 432x288 with 1 Axes>"
      ]
     },
     "metadata": {
      "needs_background": "light"
     },
     "output_type": "display_data"
    }
   ],
   "source": [
    "# loss plot (smoothed)\n",
    "\n",
    "y = torch.tensor(list_loss).view(-1, 1000).mean(1).tolist()\n",
    "\n",
    "sns.lineplot(x=range(len(y)), y=y)"
   ]
  },
  {
   "attachments": {},
   "cell_type": "markdown",
   "metadata": {},
   "source": [
    "### Evaluation"
   ]
  },
  {
   "cell_type": "code",
   "execution_count": 15,
   "metadata": {},
   "outputs": [
    {
     "name": "stdout",
     "output_type": "stream",
     "text": [
      "train=2.05883526802063 \n",
      " valid=2.09456729888916 \n",
      " test=2.0942931175231934\n"
     ]
    }
   ],
   "source": [
    "@torch.no_grad()\n",
    "def eval(x_eval, y_eval):\n",
    "    logits = model(x_eval, train=False)\n",
    "    loss = torch.nn.functional.cross_entropy(logits, y_eval)\n",
    "    return loss.item()\n",
    "\n",
    "\n",
    "print(f\"train={eval(X_TRAIN, Y_TRAIN)} \\n valid={eval(X_VALID, Y_VALID)} \\n test={eval(X_TEST, Y_TEST)}\")\n"
   ]
  },
  {
   "cell_type": "code",
   "execution_count": 16,
   "metadata": {},
   "outputs": [
    {
     "data": {
      "text/plain": [
       "0.12099657768651609"
      ]
     },
     "execution_count": 16,
     "metadata": {},
     "output_type": "execute_result"
    }
   ],
   "source": [
    "sum([p.nelement() for p in parameters]) / X_TRAIN.shape[0]"
   ]
  },
  {
   "cell_type": "code",
   "execution_count": 17,
   "metadata": {},
   "outputs": [
    {
     "name": "stderr",
     "output_type": "stream",
     "text": [
      "/var/folders/81/p29glqk579jc_zzy2qdvx0g80000gn/T/ipykernel_36057/666770995.py:11: UserWarning: Implicit dimension choice for softmax has been deprecated. Change the call to include dim=X as an argument.\n",
      "  probs = torch.nn.functional.softmax(logits)\n"
     ]
    },
    {
     "data": {
      "text/plain": [
       "['junide',\n",
       " 'janasia',\n",
       " 'prefay',\n",
       " 'adiya',\n",
       " 'jirrito',\n",
       " 'cossaree',\n",
       " 'kalinaa',\n",
       " 'zamileaha',\n",
       " 'khedainr',\n",
       " 'amells']"
      ]
     },
     "execution_count": 17,
     "metadata": {},
     "output_type": "execute_result"
    }
   ],
   "source": [
    "# Generating New Names\n",
    "\n",
    "def get_new_names_with_nn(n):\n",
    "    names = []\n",
    "    for _ in range(n):\n",
    "        out = []\n",
    "        block = [0] * NUM_OF_PREV_CHAR_TO_USE\n",
    "        while True:\n",
    "            temp_x = torch.tensor([block])\n",
    "            logits = model(temp_x, train=False)\n",
    "            probs = torch.nn.functional.softmax(logits)\n",
    "            ix = torch.multinomial(probs, num_samples=1, replacement=True, generator=g).item()\n",
    "            block = [*block[1:], ix]\n",
    "            out.append(ix)\n",
    "            if ix == 0:\n",
    "                break\n",
    "        names.append(''.join(itos[i] for i in out[:-1]))\n",
    "    return names\n",
    "\n",
    "get_new_names_with_nn(10)"
   ]
  },
  {
   "attachments": {},
   "cell_type": "markdown",
   "metadata": {},
   "source": [
    "# Graveyard"
   ]
  },
  {
   "cell_type": "code",
   "execution_count": 50,
   "metadata": {},
   "outputs": [
    {
     "data": {
      "text/plain": [
       "torch.Size([182625, 8])"
      ]
     },
     "execution_count": 50,
     "metadata": {},
     "output_type": "execute_result"
    }
   ],
   "source": [
    "X_TRAIN.shape"
   ]
  },
  {
   "cell_type": "code",
   "execution_count": 41,
   "metadata": {},
   "outputs": [
    {
     "name": "stdout",
     "output_type": "stream",
     "text": [
      "torch.Size([4, 8]) torch.Size([4, 27])\n",
      "tensor([[ 0,  0,  0, 19,  5, 14,  1,  9],\n",
      "        [ 0,  0,  0,  0,  0,  2,  5,  3],\n",
      "        [ 0,  0,  0,  0,  0,  0,  0, 14],\n",
      "        [21,  2, 18,  5,  5, 12, 25, 14]])\n"
     ]
    }
   ],
   "source": [
    "# example\n",
    "ix = torch.randint(low=0, high=X_TRAIN.shape[0], size=(4,))\n",
    "xb, yb = X_TRAIN[ix], Y_TRAIN[ix]\n",
    "logits = model(xb, train=False)\n",
    "print(xb.shape, logits.shape)\n",
    "print(xb)"
   ]
  },
  {
   "cell_type": "code",
   "execution_count": 55,
   "metadata": {},
   "outputs": [
    {
     "data": {
      "text/plain": [
       "tensor([[[ 4,  1, 17,  9,  4,  4,  4,  1,  3,  9],\n",
       "         [17,  7,  1, 15,  6, 19,  0, 17, 17,  2],\n",
       "         [ 0,  3,  5,  2,  0, 16, 18,  3, 10,  2],\n",
       "         [ 8,  7, 15,  0, 16, 13,  5,  4, 17,  7],\n",
       "         [10, 11,  7, 17, 13,  5,  1, 18, 18, 17],\n",
       "         [ 2, 13,  0,  7,  7, 19,  8, 10,  5, 10],\n",
       "         [13, 15, 10,  5,  1, 15, 13, 10,  3, 16],\n",
       "         [ 6, 17, 16,  7,  0,  6, 13, 14, 15, 17]],\n",
       "\n",
       "        [[15,  3, 11, 10,  7, 11, 15, 11, 15,  6],\n",
       "         [ 8, 16,  8, 16,  4,  9, 12,  6, 19,  4],\n",
       "         [18, 11,  2, 19, 10,  8, 10,  8, 10,  1],\n",
       "         [13, 19,  4,  4, 16, 13,  3,  5, 16,  3],\n",
       "         [14,  9, 12,  8,  8, 14, 13,  3, 11, 13],\n",
       "         [15, 17, 18, 19,  1, 17, 13, 15,  3, 11],\n",
       "         [ 6, 11, 18,  7, 10, 12, 10,  6,  6,  4],\n",
       "         [18,  2,  9, 11, 19, 19, 16,  7,  0,  5]]])"
      ]
     },
     "execution_count": 55,
     "metadata": {},
     "output_type": "execute_result"
    }
   ],
   "source": [
    "test = torch.randint(0, 20, (2, 8, 10))\n",
    "test"
   ]
  },
  {
   "cell_type": "code",
   "execution_count": 58,
   "metadata": {},
   "outputs": [
    {
     "data": {
      "text/plain": [
       "tensor([[[ 4,  1, 17,  9,  4,  4,  4,  1,  3,  9, 17,  7,  1, 15,  6, 19,  0,\n",
       "          17, 17,  2],\n",
       "         [ 0,  3,  5,  2,  0, 16, 18,  3, 10,  2,  8,  7, 15,  0, 16, 13,  5,\n",
       "           4, 17,  7],\n",
       "         [10, 11,  7, 17, 13,  5,  1, 18, 18, 17,  2, 13,  0,  7,  7, 19,  8,\n",
       "          10,  5, 10],\n",
       "         [13, 15, 10,  5,  1, 15, 13, 10,  3, 16,  6, 17, 16,  7,  0,  6, 13,\n",
       "          14, 15, 17]],\n",
       "\n",
       "        [[15,  3, 11, 10,  7, 11, 15, 11, 15,  6,  8, 16,  8, 16,  4,  9, 12,\n",
       "           6, 19,  4],\n",
       "         [18, 11,  2, 19, 10,  8, 10,  8, 10,  1, 13, 19,  4,  4, 16, 13,  3,\n",
       "           5, 16,  3],\n",
       "         [14,  9, 12,  8,  8, 14, 13,  3, 11, 13, 15, 17, 18, 19,  1, 17, 13,\n",
       "          15,  3, 11],\n",
       "         [ 6, 11, 18,  7, 10, 12, 10,  6,  6,  4, 18,  2,  9, 11, 19, 19, 16,\n",
       "           7,  0,  5]]])"
      ]
     },
     "execution_count": 58,
     "metadata": {},
     "output_type": "execute_result"
    }
   ],
   "source": [
    "torch.cat([test[:, ::2, :], test[:, 1::2, :]], dim=2)"
   ]
  },
  {
   "cell_type": "code",
   "execution_count": 42,
   "metadata": {},
   "outputs": [
    {
     "data": {
      "text/plain": [
       "torch.Size([4, 8, 10])"
      ]
     },
     "execution_count": 42,
     "metadata": {},
     "output_type": "execute_result"
    }
   ],
   "source": [
    "# embedding\n",
    "model.layers[0].out.shape"
   ]
  },
  {
   "cell_type": "code",
   "execution_count": 43,
   "metadata": {},
   "outputs": [
    {
     "data": {
      "text/plain": [
       "torch.Size([4, 80])"
      ]
     },
     "execution_count": 43,
     "metadata": {},
     "output_type": "execute_result"
    }
   ],
   "source": [
    "# flatten\n",
    "model.layers[1].out.shape"
   ]
  },
  {
   "cell_type": "code",
   "execution_count": 44,
   "metadata": {},
   "outputs": [
    {
     "data": {
      "text/plain": [
       "torch.Size([4, 200])"
      ]
     },
     "execution_count": 44,
     "metadata": {},
     "output_type": "execute_result"
    }
   ],
   "source": [
    "# linear\n",
    "model.layers[2].out.shape"
   ]
  },
  {
   "cell_type": "code",
   "execution_count": 45,
   "metadata": {},
   "outputs": [
    {
     "data": {
      "text/plain": [
       "torch.Size([4, 200])"
      ]
     },
     "execution_count": 45,
     "metadata": {},
     "output_type": "execute_result"
    }
   ],
   "source": [
    "# batchnorm\n",
    "model.layers[3].out.shape"
   ]
  },
  {
   "cell_type": "code",
   "execution_count": 46,
   "metadata": {},
   "outputs": [
    {
     "data": {
      "text/plain": [
       "torch.Size([4, 200])"
      ]
     },
     "execution_count": 46,
     "metadata": {},
     "output_type": "execute_result"
    }
   ],
   "source": [
    "# tanh\n",
    "model.layers[4].out.shape"
   ]
  },
  {
   "cell_type": "code",
   "execution_count": 47,
   "metadata": {},
   "outputs": [
    {
     "data": {
      "text/plain": [
       "torch.Size([4, 27])"
      ]
     },
     "execution_count": 47,
     "metadata": {},
     "output_type": "execute_result"
    }
   ],
   "source": [
    "# second linear\n",
    "model.layers[5].out.shape"
   ]
  },
  {
   "cell_type": "code",
   "execution_count": null,
   "metadata": {},
   "outputs": [],
   "source": []
  },
  {
   "cell_type": "code",
   "execution_count": null,
   "metadata": {},
   "outputs": [],
   "source": []
  },
  {
   "cell_type": "code",
   "execution_count": null,
   "metadata": {},
   "outputs": [],
   "source": []
  }
 ],
 "metadata": {
  "kernelspec": {
   "display_name": "ds_dev",
   "language": "python",
   "name": "python3"
  },
  "language_info": {
   "codemirror_mode": {
    "name": "ipython",
    "version": 3
   },
   "file_extension": ".py",
   "mimetype": "text/x-python",
   "name": "python",
   "nbconvert_exporter": "python",
   "pygments_lexer": "ipython3",
   "version": "3.8.12"
  },
  "orig_nbformat": 4
 },
 "nbformat": 4,
 "nbformat_minor": 2
}
